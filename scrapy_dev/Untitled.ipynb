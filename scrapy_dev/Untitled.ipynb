{
 "cells": [
  {
   "cell_type": "code",
   "execution_count": 19,
   "metadata": {
    "collapsed": false
   },
   "outputs": [
    {
     "name": "stdout",
     "output_type": "stream",
     "text": [
      "ascii\n",
      "-------你好-------\n",
      "{'confidence': 0.7525, 'daniel': u'\\u5b54\\u6587\\u6d9b', 'encoding': 'utf-8'}\n",
      "孔文涛++++++++++++\n"
     ]
    }
   ],
   "source": [
    "#coding:utf-8\n",
    "\"\"\"\n",
    "Created on Wed Jul 20 12:59:33 2016\n",
    "\n",
    "@author: kongwentao\n",
    "\"\"\"\n",
    "import sys\n",
    "#需要提前pip install chardet\n",
    "import chardet\n",
    "string = \"-------你好-------\"\n",
    "\n",
    "print sys.getdefaultencoding()\n",
    "\n",
    "print string\n",
    "#查看字符编码格式使用chardet\n",
    "#这里的unicode编码不会因为设置的coding变化\n",
    "code = chardet.detect(string)\n",
    "code[\"daniel\"]=u\"孔文涛\" #u'\\u5b54\\u6587\\u6d9b' \n",
    "print code\n",
    "print code['daniel']+\"++++++++++++\"\n",
    "\n"
   ]
  },
  {
   "cell_type": "code",
   "execution_count": 20,
   "metadata": {
    "collapsed": false
   },
   "outputs": [
    {
     "name": "stdout",
     "output_type": "stream",
     "text": [
      "------------------这里中文字符转换---------------------------\n",
      "孔文涛 3 <type 'unicode'>\n",
      "孔文涛\n"
     ]
    },
    {
     "ename": "ValueError",
     "evalue": "Expected a bytes object, not a unicode object",
     "output_type": "error",
     "traceback": [
      "\u001b[1;31m---------------------------------------------------------------------------\u001b[0m",
      "\u001b[1;31mValueError\u001b[0m                                Traceback (most recent call last)",
      "\u001b[1;32m<ipython-input-20-179563b81339>\u001b[0m in \u001b[0;36m<module>\u001b[1;34m()\u001b[0m\n\u001b[0;32m      6\u001b[0m \u001b[1;31m#unidan = dan.encode(\"unicode\")\u001b[0m\u001b[1;33m\u001b[0m\u001b[1;33m\u001b[0m\u001b[0m\n\u001b[0;32m      7\u001b[0m \u001b[1;32mprint\u001b[0m \u001b[0mdan\u001b[0m\u001b[1;33m\u001b[0m\u001b[0m\n\u001b[1;32m----> 8\u001b[1;33m \u001b[1;32mprint\u001b[0m \u001b[0mchardet\u001b[0m\u001b[1;33m.\u001b[0m\u001b[0mdetect\u001b[0m\u001b[1;33m(\u001b[0m\u001b[0mdan\u001b[0m\u001b[1;33m)\u001b[0m\u001b[1;33m\u001b[0m\u001b[0m\n\u001b[0m\u001b[0;32m      9\u001b[0m \u001b[1;32mprint\u001b[0m \u001b[1;34m\"_____________________\"\u001b[0m\u001b[1;33m\u001b[0m\u001b[0m\n\u001b[0;32m     10\u001b[0m \u001b[0mudan\u001b[0m \u001b[1;33m=\u001b[0m \u001b[0mdan\u001b[0m\u001b[1;33m.\u001b[0m\u001b[0mencode\u001b[0m\u001b[1;33m(\u001b[0m\u001b[1;34m\"utf-8\"\u001b[0m\u001b[1;33m)\u001b[0m\u001b[1;33m\u001b[0m\u001b[0m\n",
      "\u001b[1;32mC:\\Users\\kongwentao.NAVINFO\\AppData\\Local\\Continuum\\Anaconda2\\lib\\site-packages\\chardet\\__init__.pyc\u001b[0m in \u001b[0;36mdetect\u001b[1;34m(aBuf)\u001b[0m\n\u001b[0;32m     23\u001b[0m     if ((version_info < (3, 0) and isinstance(aBuf, unicode)) or\n\u001b[0;32m     24\u001b[0m             (version_info >= (3, 0) and not isinstance(aBuf, bytes))):\n\u001b[1;32m---> 25\u001b[1;33m         \u001b[1;32mraise\u001b[0m \u001b[0mValueError\u001b[0m\u001b[1;33m(\u001b[0m\u001b[1;34m'Expected a bytes object, not a unicode object'\u001b[0m\u001b[1;33m)\u001b[0m\u001b[1;33m\u001b[0m\u001b[0m\n\u001b[0m\u001b[0;32m     26\u001b[0m \u001b[1;33m\u001b[0m\u001b[0m\n\u001b[0;32m     27\u001b[0m     \u001b[1;32mfrom\u001b[0m \u001b[1;33m.\u001b[0m \u001b[1;32mimport\u001b[0m \u001b[0muniversaldetector\u001b[0m\u001b[1;33m\u001b[0m\u001b[0m\n",
      "\u001b[1;31mValueError\u001b[0m: Expected a bytes object, not a unicode object"
     ]
    }
   ],
   "source": [
    "print \"------------------这里中文字符转换---------------------------\"\n",
    "dan = code['daniel']\n",
    "print dan,len(dan),type(dan)\n",
    "\n",
    "\n",
    "#unidan = dan.encode(\"unicode\")\n",
    "print dan\n",
    "print chardet.detect(dan)\n",
    "print \"_____________________\"\n",
    "udan = dan.encode(\"utf-8\")\n",
    "print udan + 'dan.encode(\"utf-8\")'\n",
    "print chardet.detect(udan)\n",
    "print \"+++++++++++++++++++++++++++++++++++++++++++\"\n",
    "print unicode(string,'utf-8')\n",
    "print unicode(string,'gbk')\n",
    "\n",
    "uni = string.decode(\"utf-8\");\n",
    "print uni"
   ]
  },
  {
   "cell_type": "code",
   "execution_count": 25,
   "metadata": {
    "collapsed": false
   },
   "outputs": [
    {
     "data": {
      "text/plain": [
       "u'\\u6211\\u662f\\u597d\\u4eba'"
      ]
     },
     "execution_count": 25,
     "metadata": {},
     "output_type": "execute_result"
    }
   ],
   "source": [
    "stre = \"我是好人\"\n",
    "unicode(stre,'utf-8')\n",
    "#stre"
   ]
  },
  {
   "cell_type": "code",
   "execution_count": 26,
   "metadata": {
    "collapsed": false
   },
   "outputs": [
    {
     "name": "stdout",
     "output_type": "stream",
     "text": [
      "中关村 /search/category/2/0/r1488\n"
     ]
    }
   ],
   "source": [
    "item = {'href': [u'/search/category/2/0/r1488'], 'name': [u'\\u4e2d\\u5173\\u6751']}\n",
    "print item['name'][0],item['href'][0]"
   ]
  },
  {
   "cell_type": "code",
   "execution_count": 30,
   "metadata": {
    "collapsed": false
   },
   "outputs": [
    {
     "name": "stdout",
     "output_type": "stream",
     "text": [
      "中关村 [u'/search/category/2/0/r1488']\n"
     ]
    }
   ],
   "source": [
    "print item['name'][0],item['href']"
   ]
  },
  {
   "cell_type": "code",
   "execution_count": 32,
   "metadata": {
    "collapsed": false
   },
   "outputs": [],
   "source": [
    "import os"
   ]
  },
  {
   "cell_type": "code",
   "execution_count": 33,
   "metadata": {
    "collapsed": true
   },
   "outputs": [],
   "source": [
    "os.chdir(r'D:\\scrapyWorkspace\\ScrapyStudy\\scrapy_dev')"
   ]
  },
  {
   "cell_type": "code",
   "execution_count": 35,
   "metadata": {
    "collapsed": false
   },
   "outputs": [
    {
     "ename": "IOError",
     "evalue": "[Errno 2] No such file or directory: 'test.txt'",
     "output_type": "error",
     "traceback": [
      "\u001b[1;31m---------------------------------------------------------------------------\u001b[0m",
      "\u001b[1;31mIOError\u001b[0m                                   Traceback (most recent call last)",
      "\u001b[1;32m<ipython-input-35-25bdd2cf01d9>\u001b[0m in \u001b[0;36m<module>\u001b[1;34m()\u001b[0m\n\u001b[1;32m----> 1\u001b[1;33m \u001b[1;32mwith\u001b[0m \u001b[0mopen\u001b[0m\u001b[1;33m(\u001b[0m\u001b[1;34m'test.txt'\u001b[0m\u001b[1;33m,\u001b[0m\u001b[1;34m'r'\u001b[0m\u001b[1;33m)\u001b[0m \u001b[1;32mas\u001b[0m \u001b[0mf\u001b[0m\u001b[1;33m:\u001b[0m\u001b[1;33m\u001b[0m\u001b[0m\n\u001b[0m\u001b[0;32m      2\u001b[0m     \u001b[1;32mprint\u001b[0m \u001b[0mf\u001b[0m\u001b[1;33m.\u001b[0m\u001b[0mread\u001b[0m\u001b[1;33m(\u001b[0m\u001b[1;33m)\u001b[0m\u001b[1;33m\u001b[0m\u001b[0m\n",
      "\u001b[1;31mIOError\u001b[0m: [Errno 2] No such file or directory: 'test.txt'"
     ]
    }
   ],
   "source": [
    "with open('test.txt','r') as f:\n",
    "    print f.read()"
   ]
  },
  {
   "cell_type": "code",
   "execution_count": null,
   "metadata": {
    "collapsed": true
   },
   "outputs": [],
   "source": []
  }
 ],
 "metadata": {
  "kernelspec": {
   "display_name": "Python [Root]",
   "language": "python",
   "name": "Python [Root]"
  },
  "language_info": {
   "codemirror_mode": {
    "name": "ipython",
    "version": 2
   },
   "file_extension": ".py",
   "mimetype": "text/x-python",
   "name": "python",
   "nbconvert_exporter": "python",
   "pygments_lexer": "ipython2",
   "version": "2.7.11"
  }
 },
 "nbformat": 4,
 "nbformat_minor": 0
}
